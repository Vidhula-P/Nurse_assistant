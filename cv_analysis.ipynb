{
  "cells": [
    {
      "cell_type": "code",
      "execution_count": 4,
      "metadata": {
        "id": "ERvv0zFaGmHY"
      },
      "outputs": [
        {
          "name": "stderr",
          "output_type": "stream",
          "text": [
            "/Users/rohankalluraya/miniconda3/envs/defects_env/lib/python3.10/site-packages/pydub/utils.py:170: RuntimeWarning: Couldn't find ffmpeg or avconv - defaulting to ffmpeg, but may not work\n",
            "  warn(\"Couldn't find ffmpeg or avconv - defaulting to ffmpeg, but may not work\", RuntimeWarning)\n"
          ]
        }
      ],
      "source": [
        "import speech_recognition as sr\n",
        "from pydub import AudioSegment"
      ]
    },
    {
      "cell_type": "code",
      "execution_count": 3,
      "metadata": {
        "colab": {
          "base_uri": "https://localhost:8080/"
        },
        "id": "KtPe2XCHIJEZ",
        "outputId": "c33e41d2-abec-47a0-a508-82eaf394108e"
      },
      "outputs": [
        {
          "name": "stdout",
          "output_type": "stream",
          "text": [
            "Requirement already satisfied: pydub in /Users/rohankalluraya/miniconda3/envs/defects_env/lib/python3.10/site-packages (0.25.1)\n",
            "Requirement already satisfied: openai in /Users/rohankalluraya/miniconda3/envs/defects_env/lib/python3.10/site-packages (1.64.0)\n",
            "Requirement already satisfied: anyio<5,>=3.5.0 in /Users/rohankalluraya/miniconda3/envs/defects_env/lib/python3.10/site-packages (from openai) (4.4.0)\n",
            "Requirement already satisfied: distro<2,>=1.7.0 in /Users/rohankalluraya/miniconda3/envs/defects_env/lib/python3.10/site-packages (from openai) (1.9.0)\n",
            "Requirement already satisfied: httpx<1,>=0.23.0 in /Users/rohankalluraya/miniconda3/envs/defects_env/lib/python3.10/site-packages (from openai) (0.27.0)\n",
            "Requirement already satisfied: jiter<1,>=0.4.0 in /Users/rohankalluraya/miniconda3/envs/defects_env/lib/python3.10/site-packages (from openai) (0.8.2)\n",
            "Requirement already satisfied: pydantic<3,>=1.9.0 in /Users/rohankalluraya/miniconda3/envs/defects_env/lib/python3.10/site-packages (from openai) (2.10.6)\n",
            "Requirement already satisfied: sniffio in /Users/rohankalluraya/miniconda3/envs/defects_env/lib/python3.10/site-packages (from openai) (1.3.1)\n",
            "Requirement already satisfied: tqdm>4 in /Users/rohankalluraya/miniconda3/envs/defects_env/lib/python3.10/site-packages (from openai) (4.66.1)\n",
            "Requirement already satisfied: typing-extensions<5,>=4.11 in /Users/rohankalluraya/miniconda3/envs/defects_env/lib/python3.10/site-packages (from openai) (4.12.2)\n",
            "Requirement already satisfied: idna>=2.8 in /Users/rohankalluraya/miniconda3/envs/defects_env/lib/python3.10/site-packages (from anyio<5,>=3.5.0->openai) (3.7)\n",
            "Requirement already satisfied: exceptiongroup>=1.0.2 in /Users/rohankalluraya/miniconda3/envs/defects_env/lib/python3.10/site-packages (from anyio<5,>=3.5.0->openai) (1.2.1)\n",
            "Requirement already satisfied: certifi in /Users/rohankalluraya/miniconda3/envs/defects_env/lib/python3.10/site-packages (from httpx<1,>=0.23.0->openai) (2024.6.2)\n",
            "Requirement already satisfied: httpcore==1.* in /Users/rohankalluraya/miniconda3/envs/defects_env/lib/python3.10/site-packages (from httpx<1,>=0.23.0->openai) (1.0.5)\n",
            "Requirement already satisfied: h11<0.15,>=0.13 in /Users/rohankalluraya/miniconda3/envs/defects_env/lib/python3.10/site-packages (from httpcore==1.*->httpx<1,>=0.23.0->openai) (0.14.0)\n",
            "Requirement already satisfied: annotated-types>=0.6.0 in /Users/rohankalluraya/miniconda3/envs/defects_env/lib/python3.10/site-packages (from pydantic<3,>=1.9.0->openai) (0.7.0)\n",
            "Requirement already satisfied: pydantic-core==2.27.2 in /Users/rohankalluraya/miniconda3/envs/defects_env/lib/python3.10/site-packages (from pydantic<3,>=1.9.0->openai) (2.27.2)\n",
            "Requirement already satisfied: pydub in /Users/rohankalluraya/miniconda3/envs/defects_env/lib/python3.10/site-packages (0.25.1)\n",
            "Collecting SpeechRecognition\n",
            "  Downloading SpeechRecognition-3.14.1-py3-none-any.whl.metadata (31 kB)\n",
            "Requirement already satisfied: typing-extensions in /Users/rohankalluraya/miniconda3/envs/defects_env/lib/python3.10/site-packages (from SpeechRecognition) (4.12.2)\n",
            "Downloading SpeechRecognition-3.14.1-py3-none-any.whl (32.9 MB)\n",
            "\u001b[2K   \u001b[90m━━━━━━━━━━━━━━━━━━━━━━━━━━━━━━━━━━━━━━━━\u001b[0m \u001b[32m32.9/32.9 MB\u001b[0m \u001b[31m1.1 MB/s\u001b[0m eta \u001b[36m0:00:00\u001b[0m00:01\u001b[0m00:01\u001b[0m\n",
            "\u001b[?25hInstalling collected packages: SpeechRecognition\n",
            "Successfully installed SpeechRecognition-3.14.1\n"
          ]
        }
      ],
      "source": [
        "!pip install pydub\n",
        "!pip install openai\n",
        "!pip install pydub\n",
        "!pip install SpeechRecognition\n"
      ]
    },
    {
      "cell_type": "code",
      "execution_count": 10,
      "metadata": {},
      "outputs": [],
      "source": [
        "!pip install -q -U google-genai"
      ]
    },
    {
      "cell_type": "code",
      "execution_count": 5,
      "metadata": {
        "id": "IwX94izWIVFU"
      },
      "outputs": [],
      "source": [
        "# Function to convert MP3 to WAV\n",
        "def convert_mp3_to_wav(mp3_file, wav_file):\n",
        "    audio = AudioSegment.from_mp3(mp3_file)\n",
        "    audio.export(wav_file, format=\"wav\")"
      ]
    },
    {
      "cell_type": "code",
      "execution_count": 30,
      "metadata": {},
      "outputs": [],
      "source": [
        "import json"
      ]
    },
    {
      "cell_type": "code",
      "execution_count": 31,
      "metadata": {
        "id": "fXehkAKjHfJY"
      },
      "outputs": [],
      "source": [
        "# Function to transcribe audio and extract the medical information\n",
        "\n",
        "from google import genai\n",
        "\n",
        "def extract_medical_info(audio_file):\n",
        "  # Convert MP3 to WAV (if necessary)\n",
        "    if audio_file.endswith(\".mp3\"):\n",
        "        wav_file = \"converted_audio.wav\"\n",
        "        convert_mp3_to_wav(audio_file, wav_file)\n",
        "        audio_file = wav_file\n",
        "\n",
        "    # Initialize recognizer\n",
        "    recognizer = sr.Recognizer()\n",
        "\n",
        "    # Load the audio file\n",
        "    with sr.AudioFile(audio_file) as source:\n",
        "        audio_data = recognizer.record(source)\n",
        "\n",
        "    # Recognize speech using Google Web Speech API\n",
        "    try:\n",
        "        text = recognizer.recognize_google(audio_data)\n",
        "        print(\"Transcription: \", text)\n",
        "    \n",
        "        client = genai.Client(api_key=\"YOUR API KEY\")\n",
        "        response = client.models.generate_content(\n",
        "            model=\"gemini-2.0-flash\", contents=\"Analyze the following text, which is a conversation between a patient and a doctor and return it itself in JSON format with the keys 'Patient Name', 'age', 'Symptoms', and 'Doctors Suggestion'. Make sure to strictly use only the text and not add additional information \" + text\n",
        "            )\n",
        "        # print(response.text)\n",
        "        lines = response.text.splitlines()\n",
        "        json_lines = [line for line in lines if not line.strip().startswith(\"```\")]\n",
        "        clean_json_str = \"\\n\".join(json_lines)\n",
        "\n",
        "        # Convert to a Python dictionary to verify it's valid JSON\n",
        "        data = json.loads(clean_json_str)\n",
        "\n",
        "        # Save to a file\n",
        "        with open('patient_data.json', 'w') as file:\n",
        "            json.dump(data, file, indent=4)\n",
        "\n",
        "\n",
        "    \n",
        "    except sr.UnknownValueError:\n",
        "        print(\"Could not understand the audio\")\n",
        "        return {}\n",
        "    except sr.RequestError:\n",
        "        print(\"Request failed, check your network connection\")\n",
        "        return {}\n",
        "\n",
        "    # Define keywords for different symptoms\n",
        "    # symptoms = {\n",
        "    #     \"Pain Descriptions\": [\"burning\", \"stabbing\", \"pressure\"],\n",
        "    #     \"Respiratory Issues\": [\"shortness of breath\", \"coughing\"],\n",
        "    #     \"Neurological Issues\": [\"dizziness\", \"numbness\", \"headache\"],\n",
        "    #     \"Infection Signs\": [\"fever\", \"chills\", \"swelling\"]\n",
        "    # }\n",
        "\n",
        "    # # Create a dictionary to store matched symptoms\n",
        "    # medical_info = {key: [] for key in symptoms}\n",
        "\n",
        "    # # Check the transcribed text for each symptom keyword\n",
        "    # for category, keywords in symptoms.items():\n",
        "    #     for keyword in keywords:\n",
        "    #         if keyword in text.lower():\n",
        "    #             medical_info[category].append(keyword)\n",
        "\n",
        "    # # Filter out categories with no matches\n",
        "    # medical_info = {category: values for category, values in medical_info.items() if values}\n",
        "\n",
        "    return (response.text)\n"
      ]
    },
    {
      "cell_type": "code",
      "execution_count": 32,
      "metadata": {
        "colab": {
          "base_uri": "https://localhost:8080/"
        },
        "id": "u-mTjZnnHt6e",
        "outputId": "340dd11a-3ea9-4d21-c31a-7987fec3c489"
      },
      "outputs": [
        {
          "name": "stdout",
          "output_type": "stream",
          "text": [
            "Transcription:  I have dizziness\n",
            "Extracted Information: ```json\n",
            "{\n",
            "  \"Patient Name\": null,\n",
            "  \"age\": null,\n",
            "  \"Symptoms\": \"I have dizziness\",\n",
            "  \"Doctors Suggestion\": null\n",
            "}\n",
            "```\n"
          ]
        }
      ],
      "source": [
        "# Usage example\n",
        "audio_file = \"dizz.wav\"  # Replace with your audio file path\n",
        "medical_info = extract_medical_info(audio_file)\n",
        "print(\"Extracted Information:\", medical_info)"
      ]
    }
  ],
  "metadata": {
    "colab": {
      "provenance": []
    },
    "kernelspec": {
      "display_name": "defects_env",
      "language": "python",
      "name": "python3"
    },
    "language_info": {
      "codemirror_mode": {
        "name": "ipython",
        "version": 3
      },
      "file_extension": ".py",
      "mimetype": "text/x-python",
      "name": "python",
      "nbconvert_exporter": "python",
      "pygments_lexer": "ipython3",
      "version": "3.10.12"
    }
  },
  "nbformat": 4,
  "nbformat_minor": 0
}
